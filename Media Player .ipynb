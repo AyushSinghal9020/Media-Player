{
 "cells": [
  {
   "cell_type": "markdown",
   "id": "36cc72f5",
   "metadata": {},
   "source": [
    "# Media Player\n"
   ]
  },
  {
   "cell_type": "markdown",
   "id": "90d91445",
   "metadata": {},
   "source": [
    "## Modules\n"
   ]
  },
  {
   "cell_type": "code",
   "execution_count": 1,
   "id": "ca048477",
   "metadata": {},
   "outputs": [],
   "source": [
    "import sys"
   ]
  },
  {
   "cell_type": "code",
   "execution_count": 3,
   "id": "7e5404dd",
   "metadata": {},
   "outputs": [],
   "source": [
    "from PyQt5.QtMultimediaWidgets import QVideoWidget"
   ]
  },
  {
   "cell_type": "markdown",
   "id": "5e52a1c7",
   "metadata": {},
   "source": [
    "#### VideoSurface()"
   ]
  },
  {
   "cell_type": "markdown",
   "id": "03e09b3d",
   "metadata": {},
   "source": [
    "    VideoSurface() => The place where the video will be played"
   ]
  },
  {
   "cell_type": "markdown",
   "id": "bdb2e3f0",
   "metadata": {},
   "source": [
    "#### QVideoWidget ()"
   ]
  },
  {
   "cell_type": "markdown",
   "id": "d82a3420",
   "metadata": {},
   "source": [
    "    The QVideoWidget class provides a widget which presents video produced by a media object."
   ]
  },
  {
   "cell_type": "code",
   "execution_count": 4,
   "id": "c52eb12f",
   "metadata": {},
   "outputs": [],
   "source": [
    "from PyQt5.QtMultimedia import QMediaPlayer"
   ]
  },
  {
   "cell_type": "markdown",
   "id": "11e0c528",
   "metadata": {},
   "source": [
    "#### QmediaPlayer\n"
   ]
  },
  {
   "cell_type": "markdown",
   "id": "ec5203bb",
   "metadata": {},
   "source": [
    "    QmediaPlayer() => High level media playback class. It can be used to playback such content as songs, movies and internet radio.\n",
    "    Arguments() => \n",
    "        1) None \n",
    "        2) QMediaPlayer.VideoSurface() => The place where the video will be played"
   ]
  },
  {
   "cell_type": "code",
   "execution_count": 10,
   "id": "a149c43e",
   "metadata": {},
   "outputs": [],
   "source": [
    "from PyQt5.QtMultimedia import QMediaContent"
   ]
  },
  {
   "cell_type": "code",
   "execution_count": 5,
   "id": "3072eb64",
   "metadata": {},
   "outputs": [],
   "source": [
    "from PyQt5.QtCore import Qt"
   ]
  },
  {
   "cell_type": "markdown",
   "id": "e16d9322",
   "metadata": {},
   "source": [
    "#### Connect()"
   ]
  },
  {
   "cell_type": "markdown",
   "id": "33d040a0",
   "metadata": {},
   "source": [
    "    connect() => connects the signal to the event and the output \n",
    "        Arguments =>\n",
    "            1) Change of the signal/event"
   ]
  },
  {
   "cell_type": "markdown",
   "id": "4a623573",
   "metadata": {},
   "source": [
    "#### GetOpenFilenName()"
   ]
  },
  {
   "cell_type": "markdown",
   "id": "5fc6b5dc",
   "metadata": {},
   "source": [
    "    getOpenFileName() => Opens  dialog box for choosing file \n",
    "        Arguments => \n",
    "            1) object \n",
    "            2) Name on the choosing pannel"
   ]
  },
  {
   "cell_type": "code",
   "execution_count": 11,
   "id": "88eeef62",
   "metadata": {},
   "outputs": [],
   "source": [
    "from PyQt5.QtCore import QUrl"
   ]
  },
  {
   "cell_type": "markdown",
   "id": "58748913",
   "metadata": {},
   "source": [
    "#### FromLocalFIle()"
   ]
  },
  {
   "cell_type": "code",
   "execution_count": 6,
   "id": "76e14c40",
   "metadata": {},
   "outputs": [],
   "source": [
    "from PyQt5.QtGui import QIcon"
   ]
  },
  {
   "cell_type": "markdown",
   "id": "851b0c30",
   "metadata": {},
   "source": [
    "#### StandardIcon()"
   ]
  },
  {
   "cell_type": "markdown",
   "id": "bac19c0e",
   "metadata": {},
   "source": [
    "    standardIcon() => selects the standard icon form PyQt library\n",
    "        Arguments => \n",
    "            1) SP_MediaStop()\n",
    "            2) SP_MediaPlay()"
   ]
  },
  {
   "cell_type": "code",
   "execution_count": 9,
   "id": "87a36a89",
   "metadata": {},
   "outputs": [],
   "source": [
    "from PyQt5.QtGui import QPalette"
   ]
  },
  {
   "cell_type": "markdown",
   "id": "ebce949c",
   "metadata": {},
   "source": [
    "#### Palette"
   ]
  },
  {
   "cell_type": "markdown",
   "id": "acd32c2e",
   "metadata": {},
   "source": [
    "    All widgets in Qt contain a palette and use their palette to draw themselves. This makes the user interface easily configurable and easier to keep consistent. A palette consists of three color groups: \n",
    "        Active : used for the window that has keyboard focus.\n",
    "        Disabled : used for other windows.\n",
    "        Inactive : used for widgets (not windows) that are disabled for some reason."
   ]
  },
  {
   "cell_type": "markdown",
   "id": "0eb074fa",
   "metadata": {},
   "source": [
    "#### SetColor()"
   ]
  },
  {
   "cell_type": "markdown",
   "id": "726a2ae9",
   "metadata": {},
   "source": [
    "    setColor() => changes the color of the palette\n",
    "        Arguments => \n",
    "            1) The window to be colored \n",
    "            2) The color name "
   ]
  },
  {
   "cell_type": "markdown",
   "id": "0130643e",
   "metadata": {},
   "source": [
    "#### SetWindowTitle()"
   ]
  },
  {
   "cell_type": "markdown",
   "id": "2ae34a19",
   "metadata": {},
   "source": [
    "    setWindowTitle() => sets the window title \n",
    "        Arguments => \n",
    "            1) Title as a string"
   ]
  },
  {
   "cell_type": "markdown",
   "id": "8ad2c323",
   "metadata": {},
   "source": [
    "#### SetGeometry()"
   ]
  },
  {
   "cell_type": "markdown",
   "id": "06113d12",
   "metadata": {},
   "source": [
    "    setGeometry() => sets the geometry of the window\n",
    "        Arguments => \n",
    "            1) Right Length\n",
    "            2) Top Length\n",
    "            3) Left Length\n",
    "            4) Bottom Length"
   ]
  },
  {
   "cell_type": "markdown",
   "id": "b6d34f15",
   "metadata": {},
   "source": [
    "#### SetPalette()"
   ]
  },
  {
   "cell_type": "markdown",
   "id": "3f319404",
   "metadata": {},
   "source": [
    "    setPalette() => displays the pallete\n",
    "        Arguments =>\n",
    "            1) Palette"
   ]
  },
  {
   "cell_type": "markdown",
   "id": "76f76296",
   "metadata": {},
   "source": [
    "#### SetEnabled()"
   ]
  },
  {
   "cell_type": "markdown",
   "id": "4aaaea00",
   "metadata": {},
   "source": [
    "    setEnabled() => sets wether the button will be enabled or not \n",
    "        Arguments => \n",
    "            1) True \n",
    "            2) Flase"
   ]
  },
  {
   "cell_type": "markdown",
   "id": "beca17fb",
   "metadata": {},
   "source": [
    "#### SetRange()"
   ]
  },
  {
   "cell_type": "markdown",
   "id": "3fba5ed5",
   "metadata": {},
   "source": [
    "    setRange() => sets the range of the object\n",
    "        Arguments => \n",
    "            1) Start Position\n",
    "            2) Stop Position "
   ]
  },
  {
   "cell_type": "markdown",
   "id": "0f49dfdc",
   "metadata": {},
   "source": [
    "#### SetIcon()"
   ]
  },
  {
   "cell_type": "markdown",
   "id": "7441068c",
   "metadata": {},
   "source": [
    "    setIcon() => sets the icon of the object\n",
    "        Arguments =>\n",
    "            1) Icon as ICO extention \n",
    "            2) Icon as object()\n",
    "                Arguemnts => \n",
    "                    1) style() = style of the object \n",
    "                        Arguments =>\n",
    "                            1) standardIcon() = Choosing the standard icon\n",
    "                                Arguments => \n",
    "                                    1) SP_MediaStop()\n",
    "                                    2) SP_MediaPlay()"
   ]
  },
  {
   "cell_type": "markdown",
   "id": "981e88f0",
   "metadata": {},
   "source": [
    "#### SetContentMargins()"
   ]
  },
  {
   "cell_type": "markdown",
   "id": "e6b0e410",
   "metadata": {},
   "source": [
    "    setContentMargins => set the content of the margins \n",
    "        Arguments =>\n",
    "            1) Right Margin \n",
    "            2) Top Margin\n",
    "            3) Left Margin\n",
    "            4) Bottom Margin"
   ]
  },
  {
   "cell_type": "markdown",
   "id": "f29c7ece",
   "metadata": {},
   "source": [
    "#### SetVideoOutput()"
   ]
  },
  {
   "cell_type": "markdown",
   "id": "6b919475",
   "metadata": {},
   "source": [
    "    setVideoOutput() => sets the video output  \n",
    "        Arguments => \n",
    "            1) object "
   ]
  },
  {
   "cell_type": "markdown",
   "id": "7fa2bd45",
   "metadata": {},
   "source": [
    "#### SetLayout \n"
   ]
  },
  {
   "cell_type": "markdown",
   "id": "1f3e957a",
   "metadata": {},
   "source": [
    "    setLayout() => sets the layout\n",
    "        Arguments => \n",
    "            1) vertical or horizonatal lyout "
   ]
  },
  {
   "cell_type": "markdown",
   "id": "74062861",
   "metadata": {},
   "source": [
    "#### SetMedia()"
   ]
  },
  {
   "cell_type": "markdown",
   "id": "fbfe6bca",
   "metadata": {},
   "source": [
    "    setMedia() => sets the media \n",
    "        Arguments => \n",
    "            1) Class =>\n",
    "                Arguemnts => \n",
    "                    1) Class = \n",
    "                        Arguemnts => \n",
    "                            1) fromLocalFIle => imports the file from the local files \n",
    "                                Arguments => \n",
    "                                    1) filename \n",
    "                           "
   ]
  },
  {
   "cell_type": "markdown",
   "id": "a4854bbf",
   "metadata": {},
   "source": [
    "#### setValue()"
   ]
  },
  {
   "cell_type": "markdown",
   "id": "06bac6cd",
   "metadata": {},
   "source": [
    "    setValue() => sets the value \n",
    "        Arguments => \n",
    "            1) postion of the object"
   ]
  },
  {
   "cell_type": "code",
   "execution_count": 17,
   "id": "77080932",
   "metadata": {},
   "outputs": [],
   "source": [
    "from PyQt5.QtWidgets import QPushButton, QHBoxLayout,  QStyle, QSlider, QFileDialog"
   ]
  },
  {
   "cell_type": "markdown",
   "id": "97acdb61",
   "metadata": {},
   "source": [
    "#### QHBoxLayout() "
   ]
  },
  {
   "cell_type": "markdown",
   "id": "ee904077",
   "metadata": {},
   "source": [
    "    QHBoxLayout = makes the layout in horizondatal order "
   ]
  },
  {
   "cell_type": "code",
   "execution_count": 12,
   "id": "a969dd99",
   "metadata": {},
   "outputs": [],
   "source": [
    "from PyQt5.QtWidgets import QVBoxLayout"
   ]
  },
  {
   "cell_type": "markdown",
   "id": "ff435000",
   "metadata": {},
   "source": [
    "#### QVBoxLayout() "
   ]
  },
  {
   "cell_type": "markdown",
   "id": "f6319901",
   "metadata": {},
   "source": [
    "    QHBoxLayout = makes the layout in vertical order "
   ]
  },
  {
   "cell_type": "code",
   "execution_count": 16,
   "id": "596040a3",
   "metadata": {},
   "outputs": [],
   "source": [
    "from PyQt5.QtWidgets import QWidget "
   ]
  },
  {
   "cell_type": "markdown",
   "id": "941aaa18",
   "metadata": {},
   "source": [
    "#### AddWidgets()"
   ]
  },
  {
   "cell_type": "markdown",
   "id": "931ae4c7",
   "metadata": {},
   "source": [
    "    addWidgets() => adds a widget \n",
    "        Arguments => widget as a object"
   ]
  },
  {
   "cell_type": "code",
   "execution_count": 18,
   "id": "4200ec8a",
   "metadata": {},
   "outputs": [],
   "source": [
    "from PyQt5.QtWidgets import QApplication"
   ]
  },
  {
   "cell_type": "markdown",
   "id": "bfe8569a",
   "metadata": {},
   "source": [
    "#### State()|"
   ]
  },
  {
   "cell_type": "markdown",
   "id": "3bb46604",
   "metadata": {},
   "source": [
    "    state() => sets the state as class "
   ]
  },
  {
   "cell_type": "markdown",
   "id": "b5c6423e",
   "metadata": {},
   "source": [
    "#### Pause() "
   ]
  },
  {
   "cell_type": "markdown",
   "id": "6a95c6a3",
   "metadata": {},
   "source": [
    "    pause() => sets the state as pause"
   ]
  },
  {
   "cell_type": "markdown",
   "id": "9c8320d8",
   "metadata": {},
   "source": [
    "#### Play()"
   ]
  },
  {
   "cell_type": "markdown",
   "id": "a5915eb8",
   "metadata": {},
   "source": [
    "    play() => sets the state as play"
   ]
  },
  {
   "cell_type": "code",
   "execution_count": 19,
   "id": "65f2e496",
   "metadata": {},
   "outputs": [],
   "source": [
    "from PyQt5.QtWidgets import QPushButton"
   ]
  },
  {
   "cell_type": "code",
   "execution_count": 21,
   "id": "a95ebf1e",
   "metadata": {},
   "outputs": [],
   "source": [
    "from PyQt5.QtWidgets import QStyle"
   ]
  },
  {
   "cell_type": "code",
   "execution_count": 22,
   "id": "bdc2013c",
   "metadata": {},
   "outputs": [],
   "source": [
    "from PyQt5.QtWidgets import QSlider"
   ]
  },
  {
   "cell_type": "code",
   "execution_count": 24,
   "id": "d0078f0c",
   "metadata": {},
   "outputs": [],
   "source": [
    "from PyQt5.QtWidgets import QFileDialog"
   ]
  },
  {
   "cell_type": "code",
   "execution_count": 8,
   "id": "8ec12486",
   "metadata": {},
   "outputs": [
    {
     "ename": "SystemExit",
     "evalue": "0",
     "output_type": "error",
     "traceback": [
      "An exception has occurred, use %tb to see the full traceback.\n",
      "\u001b[1;31mSystemExit\u001b[0m\u001b[1;31m:\u001b[0m 0\n"
     ]
    },
    {
     "name": "stderr",
     "output_type": "stream",
     "text": [
      "C:\\Users\\user\\AppData\\Local\\Programs\\Python\\Python310\\lib\\site-packages\\IPython\\core\\interactiveshell.py:3406: UserWarning: To exit: use 'exit', 'quit', or Ctrl-D.\n",
      "  warn(\"To exit: use 'exit', 'quit', or Ctrl-D.\", stacklevel=1)\n"
     ]
    }
   ],
   "source": [
    "class Window(QWidget):\n",
    "    def __init__(self):    \n",
    "\n",
    "        super().__init__()\n",
    "\n",
    "        p = self.palette()\n",
    "        \n",
    "        p.setColor(QPalette.Window, Qt.red)\n",
    "\n",
    "        self.setWindowTitle(\"User Media Player\")\n",
    "        self.setGeometry(350, 100,700,500) \n",
    "        self.setPalette(p)\n",
    "        \n",
    "        self.create_player()\n",
    "\n",
    "    def create_player(self):\n",
    "\n",
    "        self.mediapPlayer = QMediaPlayer(None, QMediaPlayer.VideoSurface)\n",
    "        \n",
    "        self.openbtn = QPushButton()\n",
    "        self.playbtn = QPushButton()\n",
    "        self.slider = QSlider(Qt.Horizontal)\n",
    "         \n",
    "        # self.openbtn.setEnabled(False) \n",
    "        self.playbtn.setEnabled(False)\n",
    "        \n",
    "        self.slider.setRange(0,0)\n",
    "\n",
    "        videowidget  = QVideoWidget()\n",
    "        \n",
    "        self.openbtn.setIcon(self.style().standardIcon(QStyle.SP_MediaStop))\n",
    "        self.playbtn.setIcon(self.style().standardIcon(QStyle.SP_MediaPlay))\n",
    "                \n",
    "        self.openbtn.clicked.connect(self.open_file)\n",
    "        self.playbtn.clicked.connect(self.play_video)\n",
    "\n",
    "        self.mediapPlayer.stateChanged.connect(self.mediastate_changed)\n",
    "        self.mediapPlayer.positionChanged.connect(self.position_changed)\n",
    "        self.mediapPlayer.durationChanged.connect(self.duration_changed)\n",
    "\n",
    "        self.slider.sliderMoved.connect(self.set_position)\n",
    "        \n",
    "        hbox = QHBoxLayout()\n",
    "        vbox = QVBoxLayout()\n",
    "        \n",
    "        hbox.setContentsMargins(0,0,0,0)\n",
    "        \n",
    "        hbox.addWidget(self.openbtn)\n",
    "        hbox.addWidget(self.playbtn)\n",
    "        hbox.addWidget(self.slider)\n",
    " \n",
    "        vbox.addLayout(hbox)\n",
    "        vbox.addWidget(videowidget)\n",
    "\n",
    "        self.mediapPlayer.setVideoOutput(videowidget)\n",
    "        self.setLayout(vbox)\n",
    "    def open_file(self):\n",
    "        \n",
    "        filename, _ = QFileDialog.getOpenFileName(self, \"Open Video\")\n",
    "        \n",
    "        if filename != '':\n",
    "        \n",
    "            self.mediapPlayer.setMedia(QMediaContent(QUrl.fromLocalFile(filename)))\n",
    "            self.playbtn.setEnabled(True)\n",
    "\n",
    "    def play_video(self):\n",
    "\n",
    "        if self.mediapPlayer.state() == QMediaPlayer.PlayingState:\n",
    "        \n",
    "            self.mediapPlayer.pause()\n",
    "        \n",
    "        else : \n",
    "        \n",
    "            self.mediapPlayer.play()\n",
    "    \n",
    "    def mediastate_changed(self, state):\n",
    "        \n",
    "        if self.mediapPlayer.state() == QMediaPlayer.PlayingState:\n",
    "            \n",
    "            self.playbtn.setIcon(self.style().standardIcon(QStyle.SP_MediaPause))\n",
    "\n",
    "        else : \n",
    "\n",
    "            self.playbtn.setIcon(self.style().standardIcon(QStyle.SP_MediaPlay))\n",
    "\n",
    "    def position_changed(self, position):\n",
    "\n",
    "        self.slider.setValue(position)\n",
    "\n",
    "    def duration_changed(self, duration):\n",
    "\n",
    "        self.slider.setRange(0, duration)\n",
    "\n",
    "    def set_position(self, position) : \n",
    "\n",
    "        self.mediapPlayer.setPosition(position)\n",
    "\n",
    "app  = QApplication(sys.argv)\n",
    "\n",
    "window_0 = Window()\n",
    "\n",
    "window_0.show()\n",
    "\n",
    "sys.exit(app.exec_())"
   ]
  }
 ],
 "metadata": {
  "kernelspec": {
   "display_name": "Python 3 (ipykernel)",
   "language": "python",
   "name": "python3"
  },
  "language_info": {
   "codemirror_mode": {
    "name": "ipython",
    "version": 3
   },
   "file_extension": ".py",
   "mimetype": "text/x-python",
   "name": "python",
   "nbconvert_exporter": "python",
   "pygments_lexer": "ipython3",
   "version": "3.10.5"
  }
 },
 "nbformat": 4,
 "nbformat_minor": 5
}
